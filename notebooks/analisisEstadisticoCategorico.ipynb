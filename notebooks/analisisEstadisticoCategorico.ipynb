{
  "cells": [
    {
      "cell_type": "code",
      "execution_count": 115,
      "id": "38e6d008",
      "metadata": {
        "id": "38e6d008"
      },
      "outputs": [],
      "source": [
        "import pandas as pd\n",
        "import warnings\n",
        "import plotly.express as px\n",
        "import matplotlib.pyplot as plt\n",
        "import seaborn as sns\n",
        "import numpy as np\n",
        "from sklearn.preprocessing import OneHotEncoder\n",
        "from sklearn.compose import make_column_transformer\n",
        "\n",
        "warnings.filterwarnings('ignore')\n",
        "\n",
        "url = \"https://raw.githubusercontent.com/kevirui/challenge-telecom-x/refs/heads/ramaDev/data/data_tratada.csv\"\n",
        "\n",
        "data = pd.read_csv(url)"
      ]
    },
    {
      "cell_type": "code",
      "source": [
        "data.info()"
      ],
      "metadata": {
        "id": "Gn-7Dje-r4qC",
        "outputId": "bc8ae86a-0e87-47ec-ed4e-ce0652a33934",
        "colab": {
          "base_uri": "https://localhost:8080/"
        }
      },
      "id": "Gn-7Dje-r4qC",
      "execution_count": 116,
      "outputs": [
        {
          "output_type": "stream",
          "name": "stdout",
          "text": [
            "<class 'pandas.core.frame.DataFrame'>\n",
            "RangeIndex: 7043 entries, 0 to 7042\n",
            "Data columns (total 22 columns):\n",
            " #   Column                     Non-Null Count  Dtype  \n",
            "---  ------                     --------------  -----  \n",
            " 0   customerID                 7043 non-null   object \n",
            " 1   Churn                      7043 non-null   object \n",
            " 2   customer.gender            7043 non-null   object \n",
            " 3   customer.SeniorCitizen     7043 non-null   int64  \n",
            " 4   customer.Partner           7043 non-null   object \n",
            " 5   customer.Dependents        7043 non-null   object \n",
            " 6   customer.tenure            7043 non-null   int64  \n",
            " 7   phone.PhoneService         7043 non-null   object \n",
            " 8   phone.MultipleLines        7043 non-null   object \n",
            " 9   internet.InternetService   7043 non-null   object \n",
            " 10  internet.OnlineSecurity    7043 non-null   object \n",
            " 11  internet.OnlineBackup      7043 non-null   object \n",
            " 12  internet.DeviceProtection  7043 non-null   object \n",
            " 13  internet.TechSupport       7043 non-null   object \n",
            " 14  internet.StreamingTV       7043 non-null   object \n",
            " 15  internet.StreamingMovies   7043 non-null   object \n",
            " 16  account.Contract           7043 non-null   object \n",
            " 17  account.PaperlessBilling   7043 non-null   object \n",
            " 18  account.PaymentMethod      7043 non-null   object \n",
            " 19  Total.Day                  7032 non-null   float64\n",
            " 20  account.Charges.Monthly    7043 non-null   float64\n",
            " 21  account.Charges.Total      7032 non-null   float64\n",
            "dtypes: float64(3), int64(2), object(17)\n",
            "memory usage: 1.2+ MB\n"
          ]
        }
      ]
    },
    {
      "cell_type": "code",
      "source": [
        "data.describe()"
      ],
      "metadata": {
        "id": "pCUJhraMr_Mp",
        "outputId": "6a1999f9-4154-4107-dc98-e0d383737b08",
        "colab": {
          "base_uri": "https://localhost:8080/",
          "height": 300
        }
      },
      "id": "pCUJhraMr_Mp",
      "execution_count": 117,
      "outputs": [
        {
          "output_type": "execute_result",
          "data": {
            "text/plain": [
              "       customer.SeniorCitizen  customer.tenure    Total.Day  \\\n",
              "count             7043.000000      7043.000000  7032.000000   \n",
              "mean                 0.162147        32.371149     2.159879   \n",
              "std                  0.368612        24.559481     1.006217   \n",
              "min                  0.000000         0.000000     0.460000   \n",
              "25%                  0.000000         9.000000     1.207500   \n",
              "50%                  0.000000        29.000000     2.350000   \n",
              "75%                  0.000000        55.000000     3.010000   \n",
              "max                  1.000000        72.000000     4.050000   \n",
              "\n",
              "       account.Charges.Monthly  account.Charges.Total  \n",
              "count              7043.000000            7032.000000  \n",
              "mean                 64.761692            2283.300441  \n",
              "std                  30.090047            2266.771362  \n",
              "min                  18.250000              18.800000  \n",
              "25%                  35.500000             401.450000  \n",
              "50%                  70.350000            1397.475000  \n",
              "75%                  89.850000            3794.737500  \n",
              "max                 118.750000            8684.800000  "
            ],
            "text/html": [
              "\n",
              "  <div id=\"df-e517132e-559e-44f1-8123-3025d97c5bb9\" class=\"colab-df-container\">\n",
              "    <div>\n",
              "<style scoped>\n",
              "    .dataframe tbody tr th:only-of-type {\n",
              "        vertical-align: middle;\n",
              "    }\n",
              "\n",
              "    .dataframe tbody tr th {\n",
              "        vertical-align: top;\n",
              "    }\n",
              "\n",
              "    .dataframe thead th {\n",
              "        text-align: right;\n",
              "    }\n",
              "</style>\n",
              "<table border=\"1\" class=\"dataframe\">\n",
              "  <thead>\n",
              "    <tr style=\"text-align: right;\">\n",
              "      <th></th>\n",
              "      <th>customer.SeniorCitizen</th>\n",
              "      <th>customer.tenure</th>\n",
              "      <th>Total.Day</th>\n",
              "      <th>account.Charges.Monthly</th>\n",
              "      <th>account.Charges.Total</th>\n",
              "    </tr>\n",
              "  </thead>\n",
              "  <tbody>\n",
              "    <tr>\n",
              "      <th>count</th>\n",
              "      <td>7043.000000</td>\n",
              "      <td>7043.000000</td>\n",
              "      <td>7032.000000</td>\n",
              "      <td>7043.000000</td>\n",
              "      <td>7032.000000</td>\n",
              "    </tr>\n",
              "    <tr>\n",
              "      <th>mean</th>\n",
              "      <td>0.162147</td>\n",
              "      <td>32.371149</td>\n",
              "      <td>2.159879</td>\n",
              "      <td>64.761692</td>\n",
              "      <td>2283.300441</td>\n",
              "    </tr>\n",
              "    <tr>\n",
              "      <th>std</th>\n",
              "      <td>0.368612</td>\n",
              "      <td>24.559481</td>\n",
              "      <td>1.006217</td>\n",
              "      <td>30.090047</td>\n",
              "      <td>2266.771362</td>\n",
              "    </tr>\n",
              "    <tr>\n",
              "      <th>min</th>\n",
              "      <td>0.000000</td>\n",
              "      <td>0.000000</td>\n",
              "      <td>0.460000</td>\n",
              "      <td>18.250000</td>\n",
              "      <td>18.800000</td>\n",
              "    </tr>\n",
              "    <tr>\n",
              "      <th>25%</th>\n",
              "      <td>0.000000</td>\n",
              "      <td>9.000000</td>\n",
              "      <td>1.207500</td>\n",
              "      <td>35.500000</td>\n",
              "      <td>401.450000</td>\n",
              "    </tr>\n",
              "    <tr>\n",
              "      <th>50%</th>\n",
              "      <td>0.000000</td>\n",
              "      <td>29.000000</td>\n",
              "      <td>2.350000</td>\n",
              "      <td>70.350000</td>\n",
              "      <td>1397.475000</td>\n",
              "    </tr>\n",
              "    <tr>\n",
              "      <th>75%</th>\n",
              "      <td>0.000000</td>\n",
              "      <td>55.000000</td>\n",
              "      <td>3.010000</td>\n",
              "      <td>89.850000</td>\n",
              "      <td>3794.737500</td>\n",
              "    </tr>\n",
              "    <tr>\n",
              "      <th>max</th>\n",
              "      <td>1.000000</td>\n",
              "      <td>72.000000</td>\n",
              "      <td>4.050000</td>\n",
              "      <td>118.750000</td>\n",
              "      <td>8684.800000</td>\n",
              "    </tr>\n",
              "  </tbody>\n",
              "</table>\n",
              "</div>\n",
              "    <div class=\"colab-df-buttons\">\n",
              "\n",
              "  <div class=\"colab-df-container\">\n",
              "    <button class=\"colab-df-convert\" onclick=\"convertToInteractive('df-e517132e-559e-44f1-8123-3025d97c5bb9')\"\n",
              "            title=\"Convert this dataframe to an interactive table.\"\n",
              "            style=\"display:none;\">\n",
              "\n",
              "  <svg xmlns=\"http://www.w3.org/2000/svg\" height=\"24px\" viewBox=\"0 -960 960 960\">\n",
              "    <path d=\"M120-120v-720h720v720H120Zm60-500h600v-160H180v160Zm220 220h160v-160H400v160Zm0 220h160v-160H400v160ZM180-400h160v-160H180v160Zm440 0h160v-160H620v160ZM180-180h160v-160H180v160Zm440 0h160v-160H620v160Z\"/>\n",
              "  </svg>\n",
              "    </button>\n",
              "\n",
              "  <style>\n",
              "    .colab-df-container {\n",
              "      display:flex;\n",
              "      gap: 12px;\n",
              "    }\n",
              "\n",
              "    .colab-df-convert {\n",
              "      background-color: #E8F0FE;\n",
              "      border: none;\n",
              "      border-radius: 50%;\n",
              "      cursor: pointer;\n",
              "      display: none;\n",
              "      fill: #1967D2;\n",
              "      height: 32px;\n",
              "      padding: 0 0 0 0;\n",
              "      width: 32px;\n",
              "    }\n",
              "\n",
              "    .colab-df-convert:hover {\n",
              "      background-color: #E2EBFA;\n",
              "      box-shadow: 0px 1px 2px rgba(60, 64, 67, 0.3), 0px 1px 3px 1px rgba(60, 64, 67, 0.15);\n",
              "      fill: #174EA6;\n",
              "    }\n",
              "\n",
              "    .colab-df-buttons div {\n",
              "      margin-bottom: 4px;\n",
              "    }\n",
              "\n",
              "    [theme=dark] .colab-df-convert {\n",
              "      background-color: #3B4455;\n",
              "      fill: #D2E3FC;\n",
              "    }\n",
              "\n",
              "    [theme=dark] .colab-df-convert:hover {\n",
              "      background-color: #434B5C;\n",
              "      box-shadow: 0px 1px 3px 1px rgba(0, 0, 0, 0.15);\n",
              "      filter: drop-shadow(0px 1px 2px rgba(0, 0, 0, 0.3));\n",
              "      fill: #FFFFFF;\n",
              "    }\n",
              "  </style>\n",
              "\n",
              "    <script>\n",
              "      const buttonEl =\n",
              "        document.querySelector('#df-e517132e-559e-44f1-8123-3025d97c5bb9 button.colab-df-convert');\n",
              "      buttonEl.style.display =\n",
              "        google.colab.kernel.accessAllowed ? 'block' : 'none';\n",
              "\n",
              "      async function convertToInteractive(key) {\n",
              "        const element = document.querySelector('#df-e517132e-559e-44f1-8123-3025d97c5bb9');\n",
              "        const dataTable =\n",
              "          await google.colab.kernel.invokeFunction('convertToInteractive',\n",
              "                                                    [key], {});\n",
              "        if (!dataTable) return;\n",
              "\n",
              "        const docLinkHtml = 'Like what you see? Visit the ' +\n",
              "          '<a target=\"_blank\" href=https://colab.research.google.com/notebooks/data_table.ipynb>data table notebook</a>'\n",
              "          + ' to learn more about interactive tables.';\n",
              "        element.innerHTML = '';\n",
              "        dataTable['output_type'] = 'display_data';\n",
              "        await google.colab.output.renderOutput(dataTable, element);\n",
              "        const docLink = document.createElement('div');\n",
              "        docLink.innerHTML = docLinkHtml;\n",
              "        element.appendChild(docLink);\n",
              "      }\n",
              "    </script>\n",
              "  </div>\n",
              "\n",
              "\n",
              "    <div id=\"df-375accb2-b522-44fa-958d-bc16d65cdd3f\">\n",
              "      <button class=\"colab-df-quickchart\" onclick=\"quickchart('df-375accb2-b522-44fa-958d-bc16d65cdd3f')\"\n",
              "                title=\"Suggest charts\"\n",
              "                style=\"display:none;\">\n",
              "\n",
              "<svg xmlns=\"http://www.w3.org/2000/svg\" height=\"24px\"viewBox=\"0 0 24 24\"\n",
              "     width=\"24px\">\n",
              "    <g>\n",
              "        <path d=\"M19 3H5c-1.1 0-2 .9-2 2v14c0 1.1.9 2 2 2h14c1.1 0 2-.9 2-2V5c0-1.1-.9-2-2-2zM9 17H7v-7h2v7zm4 0h-2V7h2v10zm4 0h-2v-4h2v4z\"/>\n",
              "    </g>\n",
              "</svg>\n",
              "      </button>\n",
              "\n",
              "<style>\n",
              "  .colab-df-quickchart {\n",
              "      --bg-color: #E8F0FE;\n",
              "      --fill-color: #1967D2;\n",
              "      --hover-bg-color: #E2EBFA;\n",
              "      --hover-fill-color: #174EA6;\n",
              "      --disabled-fill-color: #AAA;\n",
              "      --disabled-bg-color: #DDD;\n",
              "  }\n",
              "\n",
              "  [theme=dark] .colab-df-quickchart {\n",
              "      --bg-color: #3B4455;\n",
              "      --fill-color: #D2E3FC;\n",
              "      --hover-bg-color: #434B5C;\n",
              "      --hover-fill-color: #FFFFFF;\n",
              "      --disabled-bg-color: #3B4455;\n",
              "      --disabled-fill-color: #666;\n",
              "  }\n",
              "\n",
              "  .colab-df-quickchart {\n",
              "    background-color: var(--bg-color);\n",
              "    border: none;\n",
              "    border-radius: 50%;\n",
              "    cursor: pointer;\n",
              "    display: none;\n",
              "    fill: var(--fill-color);\n",
              "    height: 32px;\n",
              "    padding: 0;\n",
              "    width: 32px;\n",
              "  }\n",
              "\n",
              "  .colab-df-quickchart:hover {\n",
              "    background-color: var(--hover-bg-color);\n",
              "    box-shadow: 0 1px 2px rgba(60, 64, 67, 0.3), 0 1px 3px 1px rgba(60, 64, 67, 0.15);\n",
              "    fill: var(--button-hover-fill-color);\n",
              "  }\n",
              "\n",
              "  .colab-df-quickchart-complete:disabled,\n",
              "  .colab-df-quickchart-complete:disabled:hover {\n",
              "    background-color: var(--disabled-bg-color);\n",
              "    fill: var(--disabled-fill-color);\n",
              "    box-shadow: none;\n",
              "  }\n",
              "\n",
              "  .colab-df-spinner {\n",
              "    border: 2px solid var(--fill-color);\n",
              "    border-color: transparent;\n",
              "    border-bottom-color: var(--fill-color);\n",
              "    animation:\n",
              "      spin 1s steps(1) infinite;\n",
              "  }\n",
              "\n",
              "  @keyframes spin {\n",
              "    0% {\n",
              "      border-color: transparent;\n",
              "      border-bottom-color: var(--fill-color);\n",
              "      border-left-color: var(--fill-color);\n",
              "    }\n",
              "    20% {\n",
              "      border-color: transparent;\n",
              "      border-left-color: var(--fill-color);\n",
              "      border-top-color: var(--fill-color);\n",
              "    }\n",
              "    30% {\n",
              "      border-color: transparent;\n",
              "      border-left-color: var(--fill-color);\n",
              "      border-top-color: var(--fill-color);\n",
              "      border-right-color: var(--fill-color);\n",
              "    }\n",
              "    40% {\n",
              "      border-color: transparent;\n",
              "      border-right-color: var(--fill-color);\n",
              "      border-top-color: var(--fill-color);\n",
              "    }\n",
              "    60% {\n",
              "      border-color: transparent;\n",
              "      border-right-color: var(--fill-color);\n",
              "    }\n",
              "    80% {\n",
              "      border-color: transparent;\n",
              "      border-right-color: var(--fill-color);\n",
              "      border-bottom-color: var(--fill-color);\n",
              "    }\n",
              "    90% {\n",
              "      border-color: transparent;\n",
              "      border-bottom-color: var(--fill-color);\n",
              "    }\n",
              "  }\n",
              "</style>\n",
              "\n",
              "      <script>\n",
              "        async function quickchart(key) {\n",
              "          const quickchartButtonEl =\n",
              "            document.querySelector('#' + key + ' button');\n",
              "          quickchartButtonEl.disabled = true;  // To prevent multiple clicks.\n",
              "          quickchartButtonEl.classList.add('colab-df-spinner');\n",
              "          try {\n",
              "            const charts = await google.colab.kernel.invokeFunction(\n",
              "                'suggestCharts', [key], {});\n",
              "          } catch (error) {\n",
              "            console.error('Error during call to suggestCharts:', error);\n",
              "          }\n",
              "          quickchartButtonEl.classList.remove('colab-df-spinner');\n",
              "          quickchartButtonEl.classList.add('colab-df-quickchart-complete');\n",
              "        }\n",
              "        (() => {\n",
              "          let quickchartButtonEl =\n",
              "            document.querySelector('#df-375accb2-b522-44fa-958d-bc16d65cdd3f button');\n",
              "          quickchartButtonEl.style.display =\n",
              "            google.colab.kernel.accessAllowed ? 'block' : 'none';\n",
              "        })();\n",
              "      </script>\n",
              "    </div>\n",
              "\n",
              "    </div>\n",
              "  </div>\n"
            ],
            "application/vnd.google.colaboratory.intrinsic+json": {
              "type": "dataframe",
              "summary": "{\n  \"name\": \"data\",\n  \"rows\": 8,\n  \"fields\": [\n    {\n      \"column\": \"customer.SeniorCitizen\",\n      \"properties\": {\n        \"dtype\": \"number\",\n        \"std\": 2489.9992387084,\n        \"min\": 0.0,\n        \"max\": 7043.0,\n        \"num_unique_values\": 5,\n        \"samples\": [\n          0.1621468124378816,\n          1.0,\n          0.3686116056100278\n        ],\n        \"semantic_type\": \"\",\n        \"description\": \"\"\n      }\n    },\n    {\n      \"column\": \"customer.tenure\",\n      \"properties\": {\n        \"dtype\": \"number\",\n        \"std\": 2478.9752758409018,\n        \"min\": 0.0,\n        \"max\": 7043.0,\n        \"num_unique_values\": 8,\n        \"samples\": [\n          32.37114865824223,\n          29.0,\n          7043.0\n        ],\n        \"semantic_type\": \"\",\n        \"description\": \"\"\n      }\n    },\n    {\n      \"column\": \"Total.Day\",\n      \"properties\": {\n        \"dtype\": \"number\",\n        \"std\": 2485.4683011109373,\n        \"min\": 0.46,\n        \"max\": 7032.0,\n        \"num_unique_values\": 8,\n        \"samples\": [\n          2.1598791240045507,\n          2.35,\n          7032.0\n        ],\n        \"semantic_type\": \"\",\n        \"description\": \"\"\n      }\n    },\n    {\n      \"column\": \"account.Charges.Monthly\",\n      \"properties\": {\n        \"dtype\": \"number\",\n        \"std\": 2468.7047672837775,\n        \"min\": 18.25,\n        \"max\": 7043.0,\n        \"num_unique_values\": 8,\n        \"samples\": [\n          64.76169246059918,\n          70.35,\n          7043.0\n        ],\n        \"semantic_type\": \"\",\n        \"description\": \"\"\n      }\n    },\n    {\n      \"column\": \"account.Charges.Total\",\n      \"properties\": {\n        \"dtype\": \"number\",\n        \"std\": 3117.312944742373,\n        \"min\": 18.8,\n        \"max\": 8684.8,\n        \"num_unique_values\": 8,\n        \"samples\": [\n          2283.3004408418656,\n          1397.475,\n          7032.0\n        ],\n        \"semantic_type\": \"\",\n        \"description\": \"\"\n      }\n    }\n  ]\n}"
            }
          },
          "metadata": {},
          "execution_count": 117
        }
      ]
    },
    {
      "cell_type": "markdown",
      "source": [
        "# Tratamiento y Codificación"
      ],
      "metadata": {
        "id": "n7BRQfR3W0BN"
      },
      "id": "n7BRQfR3W0BN"
    },
    {
      "cell_type": "code",
      "execution_count": 118,
      "id": "8aff19e7",
      "metadata": {
        "id": "8aff19e7"
      },
      "outputs": [],
      "source": [
        "data = data.drop(columns=['customerID', 'account.Charges.Total', 'Total.Day'])"
      ]
    },
    {
      "cell_type": "markdown",
      "source": [
        "```bash\n",
        "data['customer.Partner'] = data['customer.Partner'].replace({'No':0, 'Yes':1}).astype(int)\n",
        "data['customer.Dependents'] = data['customer.Dependents'].replace({'No':0, 'Yes':1}).astype(int)\n",
        "data['account.PaperlessBilling'] = data['account.PaperlessBilling'].replace({'No':0, 'Yes':1}).astype(int)\n",
        "```"
      ],
      "metadata": {
        "id": "IRqEn8hm3olT"
      },
      "id": "IRqEn8hm3olT"
    },
    {
      "cell_type": "markdown",
      "source": [
        "```bash\n",
        "from sklearn.compose import make_column_transformer\n",
        "from sklearn.preprocessing import OneHotEncoder\n",
        "\n",
        "categoricas = ['customer.gender', 'account.Contract', 'account.PaymentMethod']\n",
        "\n",
        "one_hot_enc = make_column_transformer((OneHotEncoder(handle_unknown='ignore'), categoricas), remainder='passthrough')\n",
        "data = one_hot_enc.fit_transform(data)\n",
        "data = pd.DataFrame(data, columns=one_hot_enc.get_feature_names_out())\n",
        "data.sample(5)\n",
        "```"
      ],
      "metadata": {
        "id": "A4wFgEtL3gEz"
      },
      "id": "A4wFgEtL3gEz"
    },
    {
      "cell_type": "code",
      "source": [
        "def preproceso(df):\n",
        "    data = df.copy()\n",
        "\n",
        "    # Diccionario de reemplazos para binarias\n",
        "    reemplazos = {\n",
        "        'Yes': 1,\n",
        "        'No': 0,\n",
        "        'No phone service': 0,\n",
        "        'No internet service': 0\n",
        "    }\n",
        "\n",
        "    # Columnas binarias\n",
        "    binarios = [\n",
        "        'Churn', 'customer.Partner', 'customer.Dependents',\n",
        "        'phone.PhoneService', 'phone.MultipleLines', 'internet.OnlineSecurity',\n",
        "        'internet.OnlineBackup', 'internet.DeviceProtection',\n",
        "        'internet.TechSupport', 'internet.StreamingTV',\n",
        "        'internet.StreamingMovies', 'account.PaperlessBilling'\n",
        "    ]\n",
        "\n",
        "    # Columnas nominales\n",
        "    nominales = ['customer.gender', 'account.Contract', 'account.PaymentMethod', 'internet.InternetService']\n",
        "\n",
        "    # Procesar binarias\n",
        "    for col in binarios:\n",
        "        if col in data.columns:\n",
        "            data[col] = data[col].replace(reemplazos).astype(int)\n",
        "\n",
        "    # One-Hot Encoding para nominales\n",
        "    data = pd.get_dummies(data, columns=nominales, drop_first=True)\n",
        "\n",
        "    return data\n",
        "\n",
        "data_procesada = preproceso(data)"
      ],
      "metadata": {
        "id": "hAiBstUn3HE8"
      },
      "id": "hAiBstUn3HE8",
      "execution_count": 119,
      "outputs": []
    },
    {
      "cell_type": "code",
      "source": [
        "data_procesada['Churn'].value_counts()"
      ],
      "metadata": {
        "id": "WnLVuf9y89rJ",
        "outputId": "ec9cb62d-49c1-4d44-b57c-20e707545605",
        "colab": {
          "base_uri": "https://localhost:8080/",
          "height": 178
        }
      },
      "id": "WnLVuf9y89rJ",
      "execution_count": 121,
      "outputs": [
        {
          "output_type": "execute_result",
          "data": {
            "text/plain": [
              "Churn\n",
              "0    5174\n",
              "1    1869\n",
              "Name: count, dtype: int64"
            ],
            "text/html": [
              "<div>\n",
              "<style scoped>\n",
              "    .dataframe tbody tr th:only-of-type {\n",
              "        vertical-align: middle;\n",
              "    }\n",
              "\n",
              "    .dataframe tbody tr th {\n",
              "        vertical-align: top;\n",
              "    }\n",
              "\n",
              "    .dataframe thead th {\n",
              "        text-align: right;\n",
              "    }\n",
              "</style>\n",
              "<table border=\"1\" class=\"dataframe\">\n",
              "  <thead>\n",
              "    <tr style=\"text-align: right;\">\n",
              "      <th></th>\n",
              "      <th>count</th>\n",
              "    </tr>\n",
              "    <tr>\n",
              "      <th>Churn</th>\n",
              "      <th></th>\n",
              "    </tr>\n",
              "  </thead>\n",
              "  <tbody>\n",
              "    <tr>\n",
              "      <th>0</th>\n",
              "      <td>5174</td>\n",
              "    </tr>\n",
              "    <tr>\n",
              "      <th>1</th>\n",
              "      <td>1869</td>\n",
              "    </tr>\n",
              "  </tbody>\n",
              "</table>\n",
              "</div><br><label><b>dtype:</b> int64</label>"
            ]
          },
          "metadata": {},
          "execution_count": 121
        }
      ]
    },
    {
      "cell_type": "code",
      "source": [
        "data_procesada['Churn'].value_counts(normalize=True)"
      ],
      "metadata": {
        "id": "JKYeaCAf98aC",
        "outputId": "c2e7da58-b5e3-41d9-f79b-ded0d68bfcfe",
        "colab": {
          "base_uri": "https://localhost:8080/",
          "height": 178
        }
      },
      "id": "JKYeaCAf98aC",
      "execution_count": 122,
      "outputs": [
        {
          "output_type": "execute_result",
          "data": {
            "text/plain": [
              "Churn\n",
              "0    0.73463\n",
              "1    0.26537\n",
              "Name: proportion, dtype: float64"
            ],
            "text/html": [
              "<div>\n",
              "<style scoped>\n",
              "    .dataframe tbody tr th:only-of-type {\n",
              "        vertical-align: middle;\n",
              "    }\n",
              "\n",
              "    .dataframe tbody tr th {\n",
              "        vertical-align: top;\n",
              "    }\n",
              "\n",
              "    .dataframe thead th {\n",
              "        text-align: right;\n",
              "    }\n",
              "</style>\n",
              "<table border=\"1\" class=\"dataframe\">\n",
              "  <thead>\n",
              "    <tr style=\"text-align: right;\">\n",
              "      <th></th>\n",
              "      <th>proportion</th>\n",
              "    </tr>\n",
              "    <tr>\n",
              "      <th>Churn</th>\n",
              "      <th></th>\n",
              "    </tr>\n",
              "  </thead>\n",
              "  <tbody>\n",
              "    <tr>\n",
              "      <th>0</th>\n",
              "      <td>0.73463</td>\n",
              "    </tr>\n",
              "    <tr>\n",
              "      <th>1</th>\n",
              "      <td>0.26537</td>\n",
              "    </tr>\n",
              "  </tbody>\n",
              "</table>\n",
              "</div><br><label><b>dtype:</b> float64</label>"
            ]
          },
          "metadata": {},
          "execution_count": 122
        }
      ]
    },
    {
      "cell_type": "markdown",
      "source": [
        "Hay desbalance de clases en relación a la evasión"
      ],
      "metadata": {
        "id": "heFQDFou-o9y"
      },
      "id": "heFQDFou-o9y"
    },
    {
      "cell_type": "markdown",
      "source": [
        "# Normalización"
      ],
      "metadata": {
        "id": "N2_13OYLW5Oc"
      },
      "id": "N2_13OYLW5Oc"
    },
    {
      "cell_type": "code",
      "source": [],
      "metadata": {
        "id": "61EXLlstW6Zs"
      },
      "id": "61EXLlstW6Zs",
      "execution_count": 119,
      "outputs": []
    },
    {
      "cell_type": "markdown",
      "source": [
        "# Analisis de Correlación"
      ],
      "metadata": {
        "id": "hY0g7cc0W7jI"
      },
      "id": "hY0g7cc0W7jI"
    },
    {
      "cell_type": "code",
      "source": [],
      "metadata": {
        "id": "hVfexb0mW-XV"
      },
      "id": "hVfexb0mW-XV",
      "execution_count": 119,
      "outputs": []
    },
    {
      "cell_type": "markdown",
      "source": [
        "# Selección de variables"
      ],
      "metadata": {
        "id": "zKSspskDW-u4"
      },
      "id": "zKSspskDW-u4"
    },
    {
      "cell_type": "code",
      "source": [],
      "metadata": {
        "id": "NQMv8A4kXBDf"
      },
      "id": "NQMv8A4kXBDf",
      "execution_count": 119,
      "outputs": []
    },
    {
      "cell_type": "markdown",
      "source": [
        "# Entrenamientos de modelos"
      ],
      "metadata": {
        "id": "0wE-LtnEqvh1"
      },
      "id": "0wE-LtnEqvh1"
    },
    {
      "cell_type": "markdown",
      "source": [
        "## Entrenamiento modelo baseline"
      ],
      "metadata": {
        "id": "n9CIHP2TqgTx"
      },
      "id": "n9CIHP2TqgTx"
    },
    {
      "cell_type": "code",
      "source": [],
      "metadata": {
        "id": "NmJ0jUpMqiDn"
      },
      "id": "NmJ0jUpMqiDn",
      "execution_count": 119,
      "outputs": []
    },
    {
      "cell_type": "markdown",
      "source": [
        "## Entrenamiento Random Forest"
      ],
      "metadata": {
        "id": "WEhs_Wr8qidc"
      },
      "id": "WEhs_Wr8qidc"
    },
    {
      "cell_type": "code",
      "source": [],
      "metadata": {
        "id": "RH8GVOrbqkzc"
      },
      "id": "RH8GVOrbqkzc",
      "execution_count": 119,
      "outputs": []
    },
    {
      "cell_type": "markdown",
      "source": [
        "## Entrenamiento Decision Tree"
      ],
      "metadata": {
        "id": "uRSj6zBtqlUl"
      },
      "id": "uRSj6zBtqlUl"
    },
    {
      "cell_type": "code",
      "source": [],
      "metadata": {
        "id": "ACwi3eo_qnXH"
      },
      "id": "ACwi3eo_qnXH",
      "execution_count": 119,
      "outputs": []
    },
    {
      "cell_type": "markdown",
      "source": [
        "# Evaluar Modelos"
      ],
      "metadata": {
        "id": "XXcJWigMqnyZ"
      },
      "id": "XXcJWigMqnyZ"
    },
    {
      "cell_type": "code",
      "source": [],
      "metadata": {
        "id": "hijiOaNuqt0W"
      },
      "id": "hijiOaNuqt0W",
      "execution_count": 119,
      "outputs": []
    },
    {
      "cell_type": "markdown",
      "source": [
        "# Interpretación"
      ],
      "metadata": {
        "id": "K-4CIbE8q5Cq"
      },
      "id": "K-4CIbE8q5Cq"
    },
    {
      "cell_type": "code",
      "source": [],
      "metadata": {
        "id": "Mr6lW1Zyq7jJ"
      },
      "id": "Mr6lW1Zyq7jJ",
      "execution_count": 119,
      "outputs": []
    },
    {
      "cell_type": "markdown",
      "source": [
        "# Conclusión"
      ],
      "metadata": {
        "id": "GyuXFdBaq7_O"
      },
      "id": "GyuXFdBaq7_O"
    },
    {
      "cell_type": "markdown",
      "source": [
        "Principales factores que influyen en el churn ( la evasión del cliente ):\n",
        "- 1\n",
        "- 2"
      ],
      "metadata": {
        "id": "oFz75dFVrA42"
      },
      "id": "oFz75dFVrA42"
    }
  ],
  "metadata": {
    "kernelspec": {
      "display_name": "Python 3",
      "language": "python",
      "name": "python3"
    },
    "language_info": {
      "codemirror_mode": {
        "name": "ipython",
        "version": 3
      },
      "file_extension": ".py",
      "mimetype": "text/x-python",
      "name": "python",
      "nbconvert_exporter": "python",
      "pygments_lexer": "ipython3",
      "version": "3.13.0"
    },
    "colab": {
      "provenance": []
    }
  },
  "nbformat": 4,
  "nbformat_minor": 5
}