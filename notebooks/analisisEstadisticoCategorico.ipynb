{
  "cells": [
    {
      "cell_type": "code",
      "execution_count": 1,
      "id": "38e6d008",
      "metadata": {
        "id": "38e6d008"
      },
      "outputs": [],
      "source": [
        "import pandas as pd\n",
        "import warnings\n",
        "import plotly.express as px\n",
        "import matplotlib.pyplot as plt\n",
        "import seaborn as sns\n",
        "import numpy as np\n",
        "from sklearn.preprocessing import OneHotEncoder\n",
        "from sklearn.compose import make_column_transformer\n",
        "\n",
        "warnings.filterwarnings('ignore')\n",
        "\n",
        "url = \"https://raw.githubusercontent.com/kevirui/challenge-telecom-x/refs/heads/ramaDev/data/data_tratada.csv\"\n",
        "\n",
        "data = pd.read_csv(url)"
      ]
    },
    {
      "cell_type": "markdown",
      "source": [
        "# Tratamiento y Codificación"
      ],
      "metadata": {
        "id": "n7BRQfR3W0BN"
      },
      "id": "n7BRQfR3W0BN"
    },
    {
      "cell_type": "code",
      "execution_count": 2,
      "id": "8aff19e7",
      "metadata": {
        "id": "8aff19e7"
      },
      "outputs": [],
      "source": [
        "data = data.drop(columns=['customerID', 'account.Charges.Total', 'Total.Day'])"
      ]
    },
    {
      "cell_type": "markdown",
      "source": [
        "```bash\n",
        "data['customer.Partner'] = data['customer.Partner'].replace({'No':0, 'Yes':1}).astype(int)\n",
        "data['customer.Dependents'] = data['customer.Dependents'].replace({'No':0, 'Yes':1}).astype(int)\n",
        "data['account.PaperlessBilling'] = data['account.PaperlessBilling'].replace({'No':0, 'Yes':1}).astype(int)\n",
        "```"
      ],
      "metadata": {
        "id": "IRqEn8hm3olT"
      },
      "id": "IRqEn8hm3olT"
    },
    {
      "cell_type": "markdown",
      "source": [
        "```bash\n",
        "from sklearn.compose import make_column_transformer\n",
        "from sklearn.preprocessing import OneHotEncoder\n",
        "\n",
        "categoricas = ['customer.gender', 'account.Contract', 'account.PaymentMethod']\n",
        "\n",
        "one_hot_enc = make_column_transformer((OneHotEncoder(handle_unknown='ignore'), categoricas), remainder='passthrough')\n",
        "data = one_hot_enc.fit_transform(data)\n",
        "data = pd.DataFrame(data, columns=one_hot_enc.get_feature_names_out())\n",
        "data.sample(5)\n",
        "```"
      ],
      "metadata": {
        "id": "A4wFgEtL3gEz"
      },
      "id": "A4wFgEtL3gEz"
    },
    {
      "cell_type": "code",
      "source": [
        "def preproceso(df):\n",
        "    data = df.copy()\n",
        "\n",
        "    # Diccionario de reemplazos para binarias\n",
        "    reemplazos = {\n",
        "        'Yes': 1,\n",
        "        'No': 0,\n",
        "        'No phone service': 0,\n",
        "        'No internet service': 0\n",
        "    }\n",
        "\n",
        "    # Columnas binarias\n",
        "    binarios = [\n",
        "        'Churn', 'customer.Partner', 'customer.Dependents',\n",
        "        'phone.PhoneService', 'phone.MultipleLines', 'internet.OnlineSecurity',\n",
        "        'internet.OnlineBackup', 'internet.DeviceProtection',\n",
        "        'internet.TechSupport', 'internet.StreamingTV',\n",
        "        'internet.StreamingMovies', 'account.PaperlessBilling'\n",
        "    ]\n",
        "\n",
        "    # Columnas nominales\n",
        "    nominales = ['customer.gender', 'account.Contract', 'account.PaymentMethod', 'internet.InternetService']\n",
        "\n",
        "    # Procesar binarias\n",
        "    for col in binarios:\n",
        "        if col in data.columns:\n",
        "            data[col] = data[col].replace(reemplazos).astype(int)\n",
        "\n",
        "    # One-Hot Encoding para nominales\n",
        "    data = pd.get_dummies(data, columns=nominales, drop_first=True)\n",
        "\n",
        "    return data\n",
        "\n",
        "data_procesada = preproceso(data)"
      ],
      "metadata": {
        "id": "hAiBstUn3HE8"
      },
      "id": "hAiBstUn3HE8",
      "execution_count": 3,
      "outputs": []
    },
    {
      "cell_type": "code",
      "source": [
        "data_procesada['Churn'].value_counts()"
      ],
      "metadata": {
        "id": "WnLVuf9y89rJ",
        "outputId": "76a9fd8e-5503-4ab3-de05-910bc92df457",
        "colab": {
          "base_uri": "https://localhost:8080/",
          "height": 178
        }
      },
      "id": "WnLVuf9y89rJ",
      "execution_count": 4,
      "outputs": [
        {
          "output_type": "execute_result",
          "data": {
            "text/plain": [
              "Churn\n",
              "0    5174\n",
              "1    1869\n",
              "Name: count, dtype: int64"
            ],
            "text/html": [
              "<div>\n",
              "<style scoped>\n",
              "    .dataframe tbody tr th:only-of-type {\n",
              "        vertical-align: middle;\n",
              "    }\n",
              "\n",
              "    .dataframe tbody tr th {\n",
              "        vertical-align: top;\n",
              "    }\n",
              "\n",
              "    .dataframe thead th {\n",
              "        text-align: right;\n",
              "    }\n",
              "</style>\n",
              "<table border=\"1\" class=\"dataframe\">\n",
              "  <thead>\n",
              "    <tr style=\"text-align: right;\">\n",
              "      <th></th>\n",
              "      <th>count</th>\n",
              "    </tr>\n",
              "    <tr>\n",
              "      <th>Churn</th>\n",
              "      <th></th>\n",
              "    </tr>\n",
              "  </thead>\n",
              "  <tbody>\n",
              "    <tr>\n",
              "      <th>0</th>\n",
              "      <td>5174</td>\n",
              "    </tr>\n",
              "    <tr>\n",
              "      <th>1</th>\n",
              "      <td>1869</td>\n",
              "    </tr>\n",
              "  </tbody>\n",
              "</table>\n",
              "</div><br><label><b>dtype:</b> int64</label>"
            ]
          },
          "metadata": {},
          "execution_count": 4
        }
      ]
    },
    {
      "cell_type": "code",
      "source": [
        "data_procesada['Churn'].value_counts(normalize=True)"
      ],
      "metadata": {
        "id": "JKYeaCAf98aC",
        "outputId": "41eb953c-5285-457b-9e91-59b3fbd02738",
        "colab": {
          "base_uri": "https://localhost:8080/",
          "height": 178
        }
      },
      "id": "JKYeaCAf98aC",
      "execution_count": 5,
      "outputs": [
        {
          "output_type": "execute_result",
          "data": {
            "text/plain": [
              "Churn\n",
              "0    0.73463\n",
              "1    0.26537\n",
              "Name: proportion, dtype: float64"
            ],
            "text/html": [
              "<div>\n",
              "<style scoped>\n",
              "    .dataframe tbody tr th:only-of-type {\n",
              "        vertical-align: middle;\n",
              "    }\n",
              "\n",
              "    .dataframe tbody tr th {\n",
              "        vertical-align: top;\n",
              "    }\n",
              "\n",
              "    .dataframe thead th {\n",
              "        text-align: right;\n",
              "    }\n",
              "</style>\n",
              "<table border=\"1\" class=\"dataframe\">\n",
              "  <thead>\n",
              "    <tr style=\"text-align: right;\">\n",
              "      <th></th>\n",
              "      <th>proportion</th>\n",
              "    </tr>\n",
              "    <tr>\n",
              "      <th>Churn</th>\n",
              "      <th></th>\n",
              "    </tr>\n",
              "  </thead>\n",
              "  <tbody>\n",
              "    <tr>\n",
              "      <th>0</th>\n",
              "      <td>0.73463</td>\n",
              "    </tr>\n",
              "    <tr>\n",
              "      <th>1</th>\n",
              "      <td>0.26537</td>\n",
              "    </tr>\n",
              "  </tbody>\n",
              "</table>\n",
              "</div><br><label><b>dtype:</b> float64</label>"
            ]
          },
          "metadata": {},
          "execution_count": 5
        }
      ]
    },
    {
      "cell_type": "markdown",
      "source": [
        "Hay desbalance de clases en relación a la evasión"
      ],
      "metadata": {
        "id": "heFQDFou-o9y"
      },
      "id": "heFQDFou-o9y"
    },
    {
      "cell_type": "markdown",
      "source": [
        "# Balanceo de datos"
      ],
      "metadata": {
        "id": "tQy9fdd2JF4X"
      },
      "id": "tQy9fdd2JF4X"
    },
    {
      "cell_type": "code",
      "source": [
        "x, y = data_procesada.drop(columns=['Churn']), data_procesada['Churn']"
      ],
      "metadata": {
        "id": "stRnRLZYJIr-"
      },
      "id": "stRnRLZYJIr-",
      "execution_count": 6,
      "outputs": []
    },
    {
      "cell_type": "code",
      "source": [
        "from collections import Counter\n",
        "\n",
        "print(sorted(Counter(y).items()))"
      ],
      "metadata": {
        "colab": {
          "base_uri": "https://localhost:8080/"
        },
        "id": "0tiTKggSJUKD",
        "outputId": "90003a4d-8f15-4fed-f088-640336a34820"
      },
      "id": "0tiTKggSJUKD",
      "execution_count": 7,
      "outputs": [
        {
          "output_type": "stream",
          "name": "stdout",
          "text": [
            "[(0, 5174), (1, 1869)]\n"
          ]
        }
      ]
    },
    {
      "cell_type": "markdown",
      "source": [
        "Existe desbalanceo de datos\n",
        "\n",
        "( Aplicare under sampling )"
      ],
      "metadata": {
        "id": "XcxiIkygLcOD"
      },
      "id": "XcxiIkygLcOD"
    },
    {
      "cell_type": "code",
      "source": [
        "from imblearn.combine import SMOTEENN\n",
        "\n",
        "smote_enn = SMOTEENN(random_state=5)\n",
        "x_bal, y_bal = smote_enn.fit_resample(x, y)"
      ],
      "metadata": {
        "id": "Y0gDR3mz2rOi"
      },
      "id": "Y0gDR3mz2rOi",
      "execution_count": 8,
      "outputs": []
    },
    {
      "cell_type": "code",
      "source": [
        "print(sorted(Counter(y_bal).items()))"
      ],
      "metadata": {
        "colab": {
          "base_uri": "https://localhost:8080/"
        },
        "id": "NQldis3ZQTT_",
        "outputId": "ccbd3e3b-90a4-4f95-bb8d-57c3628c17db"
      },
      "id": "NQldis3ZQTT_",
      "execution_count": 9,
      "outputs": [
        {
          "output_type": "stream",
          "name": "stdout",
          "text": [
            "[(0, 2627), (1, 4132)]\n"
          ]
        }
      ]
    },
    {
      "cell_type": "markdown",
      "source": [
        "# Normalización"
      ],
      "metadata": {
        "id": "N2_13OYLW5Oc"
      },
      "id": "N2_13OYLW5Oc"
    },
    {
      "cell_type": "code",
      "source": [
        "data_procesada.describe().round(2)"
      ],
      "metadata": {
        "id": "61EXLlstW6Zs",
        "colab": {
          "base_uri": "https://localhost:8080/",
          "height": 320
        },
        "outputId": "45a493fb-f95c-4ec9-cb6d-0ef4cf94263f"
      },
      "id": "61EXLlstW6Zs",
      "execution_count": 10,
      "outputs": [
        {
          "output_type": "execute_result",
          "data": {
            "text/plain": [
              "         Churn  customer.SeniorCitizen  customer.Partner  customer.Dependents  \\\n",
              "count  7043.00                 7043.00           7043.00              7043.00   \n",
              "mean      0.27                    0.16              0.48                 0.30   \n",
              "std       0.44                    0.37              0.50                 0.46   \n",
              "min       0.00                    0.00              0.00                 0.00   \n",
              "25%       0.00                    0.00              0.00                 0.00   \n",
              "50%       0.00                    0.00              0.00                 0.00   \n",
              "75%       1.00                    0.00              1.00                 1.00   \n",
              "max       1.00                    1.00              1.00                 1.00   \n",
              "\n",
              "       customer.tenure  phone.PhoneService  phone.MultipleLines  \\\n",
              "count          7043.00              7043.0              7043.00   \n",
              "mean             32.37                 0.9                 0.42   \n",
              "std              24.56                 0.3                 0.49   \n",
              "min               0.00                 0.0                 0.00   \n",
              "25%               9.00                 1.0                 0.00   \n",
              "50%              29.00                 1.0                 0.00   \n",
              "75%              55.00                 1.0                 1.00   \n",
              "max              72.00                 1.0                 1.00   \n",
              "\n",
              "       internet.OnlineSecurity  internet.OnlineBackup  \\\n",
              "count                  7043.00                7043.00   \n",
              "mean                      0.29                   0.34   \n",
              "std                       0.45                   0.48   \n",
              "min                       0.00                   0.00   \n",
              "25%                       0.00                   0.00   \n",
              "50%                       0.00                   0.00   \n",
              "75%                       1.00                   1.00   \n",
              "max                       1.00                   1.00   \n",
              "\n",
              "       internet.DeviceProtection  internet.TechSupport  internet.StreamingTV  \\\n",
              "count                    7043.00               7043.00               7043.00   \n",
              "mean                        0.34                  0.29                  0.38   \n",
              "std                         0.48                  0.45                  0.49   \n",
              "min                         0.00                  0.00                  0.00   \n",
              "25%                         0.00                  0.00                  0.00   \n",
              "50%                         0.00                  0.00                  0.00   \n",
              "75%                         1.00                  1.00                  1.00   \n",
              "max                         1.00                  1.00                  1.00   \n",
              "\n",
              "       internet.StreamingMovies  account.PaperlessBilling  \\\n",
              "count                   7043.00                   7043.00   \n",
              "mean                       0.39                      0.59   \n",
              "std                        0.49                      0.49   \n",
              "min                        0.00                      0.00   \n",
              "25%                        0.00                      0.00   \n",
              "50%                        0.00                      1.00   \n",
              "75%                        1.00                      1.00   \n",
              "max                        1.00                      1.00   \n",
              "\n",
              "       account.Charges.Monthly  \n",
              "count                  7043.00  \n",
              "mean                     64.76  \n",
              "std                      30.09  \n",
              "min                      18.25  \n",
              "25%                      35.50  \n",
              "50%                      70.35  \n",
              "75%                      89.85  \n",
              "max                     118.75  "
            ],
            "text/html": [
              "\n",
              "  <div id=\"df-3787fc56-f6f8-4bcb-b84f-783ec6cc94c6\" class=\"colab-df-container\">\n",
              "    <div>\n",
              "<style scoped>\n",
              "    .dataframe tbody tr th:only-of-type {\n",
              "        vertical-align: middle;\n",
              "    }\n",
              "\n",
              "    .dataframe tbody tr th {\n",
              "        vertical-align: top;\n",
              "    }\n",
              "\n",
              "    .dataframe thead th {\n",
              "        text-align: right;\n",
              "    }\n",
              "</style>\n",
              "<table border=\"1\" class=\"dataframe\">\n",
              "  <thead>\n",
              "    <tr style=\"text-align: right;\">\n",
              "      <th></th>\n",
              "      <th>Churn</th>\n",
              "      <th>customer.SeniorCitizen</th>\n",
              "      <th>customer.Partner</th>\n",
              "      <th>customer.Dependents</th>\n",
              "      <th>customer.tenure</th>\n",
              "      <th>phone.PhoneService</th>\n",
              "      <th>phone.MultipleLines</th>\n",
              "      <th>internet.OnlineSecurity</th>\n",
              "      <th>internet.OnlineBackup</th>\n",
              "      <th>internet.DeviceProtection</th>\n",
              "      <th>internet.TechSupport</th>\n",
              "      <th>internet.StreamingTV</th>\n",
              "      <th>internet.StreamingMovies</th>\n",
              "      <th>account.PaperlessBilling</th>\n",
              "      <th>account.Charges.Monthly</th>\n",
              "    </tr>\n",
              "  </thead>\n",
              "  <tbody>\n",
              "    <tr>\n",
              "      <th>count</th>\n",
              "      <td>7043.00</td>\n",
              "      <td>7043.00</td>\n",
              "      <td>7043.00</td>\n",
              "      <td>7043.00</td>\n",
              "      <td>7043.00</td>\n",
              "      <td>7043.0</td>\n",
              "      <td>7043.00</td>\n",
              "      <td>7043.00</td>\n",
              "      <td>7043.00</td>\n",
              "      <td>7043.00</td>\n",
              "      <td>7043.00</td>\n",
              "      <td>7043.00</td>\n",
              "      <td>7043.00</td>\n",
              "      <td>7043.00</td>\n",
              "      <td>7043.00</td>\n",
              "    </tr>\n",
              "    <tr>\n",
              "      <th>mean</th>\n",
              "      <td>0.27</td>\n",
              "      <td>0.16</td>\n",
              "      <td>0.48</td>\n",
              "      <td>0.30</td>\n",
              "      <td>32.37</td>\n",
              "      <td>0.9</td>\n",
              "      <td>0.42</td>\n",
              "      <td>0.29</td>\n",
              "      <td>0.34</td>\n",
              "      <td>0.34</td>\n",
              "      <td>0.29</td>\n",
              "      <td>0.38</td>\n",
              "      <td>0.39</td>\n",
              "      <td>0.59</td>\n",
              "      <td>64.76</td>\n",
              "    </tr>\n",
              "    <tr>\n",
              "      <th>std</th>\n",
              "      <td>0.44</td>\n",
              "      <td>0.37</td>\n",
              "      <td>0.50</td>\n",
              "      <td>0.46</td>\n",
              "      <td>24.56</td>\n",
              "      <td>0.3</td>\n",
              "      <td>0.49</td>\n",
              "      <td>0.45</td>\n",
              "      <td>0.48</td>\n",
              "      <td>0.48</td>\n",
              "      <td>0.45</td>\n",
              "      <td>0.49</td>\n",
              "      <td>0.49</td>\n",
              "      <td>0.49</td>\n",
              "      <td>30.09</td>\n",
              "    </tr>\n",
              "    <tr>\n",
              "      <th>min</th>\n",
              "      <td>0.00</td>\n",
              "      <td>0.00</td>\n",
              "      <td>0.00</td>\n",
              "      <td>0.00</td>\n",
              "      <td>0.00</td>\n",
              "      <td>0.0</td>\n",
              "      <td>0.00</td>\n",
              "      <td>0.00</td>\n",
              "      <td>0.00</td>\n",
              "      <td>0.00</td>\n",
              "      <td>0.00</td>\n",
              "      <td>0.00</td>\n",
              "      <td>0.00</td>\n",
              "      <td>0.00</td>\n",
              "      <td>18.25</td>\n",
              "    </tr>\n",
              "    <tr>\n",
              "      <th>25%</th>\n",
              "      <td>0.00</td>\n",
              "      <td>0.00</td>\n",
              "      <td>0.00</td>\n",
              "      <td>0.00</td>\n",
              "      <td>9.00</td>\n",
              "      <td>1.0</td>\n",
              "      <td>0.00</td>\n",
              "      <td>0.00</td>\n",
              "      <td>0.00</td>\n",
              "      <td>0.00</td>\n",
              "      <td>0.00</td>\n",
              "      <td>0.00</td>\n",
              "      <td>0.00</td>\n",
              "      <td>0.00</td>\n",
              "      <td>35.50</td>\n",
              "    </tr>\n",
              "    <tr>\n",
              "      <th>50%</th>\n",
              "      <td>0.00</td>\n",
              "      <td>0.00</td>\n",
              "      <td>0.00</td>\n",
              "      <td>0.00</td>\n",
              "      <td>29.00</td>\n",
              "      <td>1.0</td>\n",
              "      <td>0.00</td>\n",
              "      <td>0.00</td>\n",
              "      <td>0.00</td>\n",
              "      <td>0.00</td>\n",
              "      <td>0.00</td>\n",
              "      <td>0.00</td>\n",
              "      <td>0.00</td>\n",
              "      <td>1.00</td>\n",
              "      <td>70.35</td>\n",
              "    </tr>\n",
              "    <tr>\n",
              "      <th>75%</th>\n",
              "      <td>1.00</td>\n",
              "      <td>0.00</td>\n",
              "      <td>1.00</td>\n",
              "      <td>1.00</td>\n",
              "      <td>55.00</td>\n",
              "      <td>1.0</td>\n",
              "      <td>1.00</td>\n",
              "      <td>1.00</td>\n",
              "      <td>1.00</td>\n",
              "      <td>1.00</td>\n",
              "      <td>1.00</td>\n",
              "      <td>1.00</td>\n",
              "      <td>1.00</td>\n",
              "      <td>1.00</td>\n",
              "      <td>89.85</td>\n",
              "    </tr>\n",
              "    <tr>\n",
              "      <th>max</th>\n",
              "      <td>1.00</td>\n",
              "      <td>1.00</td>\n",
              "      <td>1.00</td>\n",
              "      <td>1.00</td>\n",
              "      <td>72.00</td>\n",
              "      <td>1.0</td>\n",
              "      <td>1.00</td>\n",
              "      <td>1.00</td>\n",
              "      <td>1.00</td>\n",
              "      <td>1.00</td>\n",
              "      <td>1.00</td>\n",
              "      <td>1.00</td>\n",
              "      <td>1.00</td>\n",
              "      <td>1.00</td>\n",
              "      <td>118.75</td>\n",
              "    </tr>\n",
              "  </tbody>\n",
              "</table>\n",
              "</div>\n",
              "    <div class=\"colab-df-buttons\">\n",
              "\n",
              "  <div class=\"colab-df-container\">\n",
              "    <button class=\"colab-df-convert\" onclick=\"convertToInteractive('df-3787fc56-f6f8-4bcb-b84f-783ec6cc94c6')\"\n",
              "            title=\"Convert this dataframe to an interactive table.\"\n",
              "            style=\"display:none;\">\n",
              "\n",
              "  <svg xmlns=\"http://www.w3.org/2000/svg\" height=\"24px\" viewBox=\"0 -960 960 960\">\n",
              "    <path d=\"M120-120v-720h720v720H120Zm60-500h600v-160H180v160Zm220 220h160v-160H400v160Zm0 220h160v-160H400v160ZM180-400h160v-160H180v160Zm440 0h160v-160H620v160ZM180-180h160v-160H180v160Zm440 0h160v-160H620v160Z\"/>\n",
              "  </svg>\n",
              "    </button>\n",
              "\n",
              "  <style>\n",
              "    .colab-df-container {\n",
              "      display:flex;\n",
              "      gap: 12px;\n",
              "    }\n",
              "\n",
              "    .colab-df-convert {\n",
              "      background-color: #E8F0FE;\n",
              "      border: none;\n",
              "      border-radius: 50%;\n",
              "      cursor: pointer;\n",
              "      display: none;\n",
              "      fill: #1967D2;\n",
              "      height: 32px;\n",
              "      padding: 0 0 0 0;\n",
              "      width: 32px;\n",
              "    }\n",
              "\n",
              "    .colab-df-convert:hover {\n",
              "      background-color: #E2EBFA;\n",
              "      box-shadow: 0px 1px 2px rgba(60, 64, 67, 0.3), 0px 1px 3px 1px rgba(60, 64, 67, 0.15);\n",
              "      fill: #174EA6;\n",
              "    }\n",
              "\n",
              "    .colab-df-buttons div {\n",
              "      margin-bottom: 4px;\n",
              "    }\n",
              "\n",
              "    [theme=dark] .colab-df-convert {\n",
              "      background-color: #3B4455;\n",
              "      fill: #D2E3FC;\n",
              "    }\n",
              "\n",
              "    [theme=dark] .colab-df-convert:hover {\n",
              "      background-color: #434B5C;\n",
              "      box-shadow: 0px 1px 3px 1px rgba(0, 0, 0, 0.15);\n",
              "      filter: drop-shadow(0px 1px 2px rgba(0, 0, 0, 0.3));\n",
              "      fill: #FFFFFF;\n",
              "    }\n",
              "  </style>\n",
              "\n",
              "    <script>\n",
              "      const buttonEl =\n",
              "        document.querySelector('#df-3787fc56-f6f8-4bcb-b84f-783ec6cc94c6 button.colab-df-convert');\n",
              "      buttonEl.style.display =\n",
              "        google.colab.kernel.accessAllowed ? 'block' : 'none';\n",
              "\n",
              "      async function convertToInteractive(key) {\n",
              "        const element = document.querySelector('#df-3787fc56-f6f8-4bcb-b84f-783ec6cc94c6');\n",
              "        const dataTable =\n",
              "          await google.colab.kernel.invokeFunction('convertToInteractive',\n",
              "                                                    [key], {});\n",
              "        if (!dataTable) return;\n",
              "\n",
              "        const docLinkHtml = 'Like what you see? Visit the ' +\n",
              "          '<a target=\"_blank\" href=https://colab.research.google.com/notebooks/data_table.ipynb>data table notebook</a>'\n",
              "          + ' to learn more about interactive tables.';\n",
              "        element.innerHTML = '';\n",
              "        dataTable['output_type'] = 'display_data';\n",
              "        await google.colab.output.renderOutput(dataTable, element);\n",
              "        const docLink = document.createElement('div');\n",
              "        docLink.innerHTML = docLinkHtml;\n",
              "        element.appendChild(docLink);\n",
              "      }\n",
              "    </script>\n",
              "  </div>\n",
              "\n",
              "\n",
              "    <div id=\"df-1adc263d-b9fc-476a-8e6b-303cf96a6957\">\n",
              "      <button class=\"colab-df-quickchart\" onclick=\"quickchart('df-1adc263d-b9fc-476a-8e6b-303cf96a6957')\"\n",
              "                title=\"Suggest charts\"\n",
              "                style=\"display:none;\">\n",
              "\n",
              "<svg xmlns=\"http://www.w3.org/2000/svg\" height=\"24px\"viewBox=\"0 0 24 24\"\n",
              "     width=\"24px\">\n",
              "    <g>\n",
              "        <path d=\"M19 3H5c-1.1 0-2 .9-2 2v14c0 1.1.9 2 2 2h14c1.1 0 2-.9 2-2V5c0-1.1-.9-2-2-2zM9 17H7v-7h2v7zm4 0h-2V7h2v10zm4 0h-2v-4h2v4z\"/>\n",
              "    </g>\n",
              "</svg>\n",
              "      </button>\n",
              "\n",
              "<style>\n",
              "  .colab-df-quickchart {\n",
              "      --bg-color: #E8F0FE;\n",
              "      --fill-color: #1967D2;\n",
              "      --hover-bg-color: #E2EBFA;\n",
              "      --hover-fill-color: #174EA6;\n",
              "      --disabled-fill-color: #AAA;\n",
              "      --disabled-bg-color: #DDD;\n",
              "  }\n",
              "\n",
              "  [theme=dark] .colab-df-quickchart {\n",
              "      --bg-color: #3B4455;\n",
              "      --fill-color: #D2E3FC;\n",
              "      --hover-bg-color: #434B5C;\n",
              "      --hover-fill-color: #FFFFFF;\n",
              "      --disabled-bg-color: #3B4455;\n",
              "      --disabled-fill-color: #666;\n",
              "  }\n",
              "\n",
              "  .colab-df-quickchart {\n",
              "    background-color: var(--bg-color);\n",
              "    border: none;\n",
              "    border-radius: 50%;\n",
              "    cursor: pointer;\n",
              "    display: none;\n",
              "    fill: var(--fill-color);\n",
              "    height: 32px;\n",
              "    padding: 0;\n",
              "    width: 32px;\n",
              "  }\n",
              "\n",
              "  .colab-df-quickchart:hover {\n",
              "    background-color: var(--hover-bg-color);\n",
              "    box-shadow: 0 1px 2px rgba(60, 64, 67, 0.3), 0 1px 3px 1px rgba(60, 64, 67, 0.15);\n",
              "    fill: var(--button-hover-fill-color);\n",
              "  }\n",
              "\n",
              "  .colab-df-quickchart-complete:disabled,\n",
              "  .colab-df-quickchart-complete:disabled:hover {\n",
              "    background-color: var(--disabled-bg-color);\n",
              "    fill: var(--disabled-fill-color);\n",
              "    box-shadow: none;\n",
              "  }\n",
              "\n",
              "  .colab-df-spinner {\n",
              "    border: 2px solid var(--fill-color);\n",
              "    border-color: transparent;\n",
              "    border-bottom-color: var(--fill-color);\n",
              "    animation:\n",
              "      spin 1s steps(1) infinite;\n",
              "  }\n",
              "\n",
              "  @keyframes spin {\n",
              "    0% {\n",
              "      border-color: transparent;\n",
              "      border-bottom-color: var(--fill-color);\n",
              "      border-left-color: var(--fill-color);\n",
              "    }\n",
              "    20% {\n",
              "      border-color: transparent;\n",
              "      border-left-color: var(--fill-color);\n",
              "      border-top-color: var(--fill-color);\n",
              "    }\n",
              "    30% {\n",
              "      border-color: transparent;\n",
              "      border-left-color: var(--fill-color);\n",
              "      border-top-color: var(--fill-color);\n",
              "      border-right-color: var(--fill-color);\n",
              "    }\n",
              "    40% {\n",
              "      border-color: transparent;\n",
              "      border-right-color: var(--fill-color);\n",
              "      border-top-color: var(--fill-color);\n",
              "    }\n",
              "    60% {\n",
              "      border-color: transparent;\n",
              "      border-right-color: var(--fill-color);\n",
              "    }\n",
              "    80% {\n",
              "      border-color: transparent;\n",
              "      border-right-color: var(--fill-color);\n",
              "      border-bottom-color: var(--fill-color);\n",
              "    }\n",
              "    90% {\n",
              "      border-color: transparent;\n",
              "      border-bottom-color: var(--fill-color);\n",
              "    }\n",
              "  }\n",
              "</style>\n",
              "\n",
              "      <script>\n",
              "        async function quickchart(key) {\n",
              "          const quickchartButtonEl =\n",
              "            document.querySelector('#' + key + ' button');\n",
              "          quickchartButtonEl.disabled = true;  // To prevent multiple clicks.\n",
              "          quickchartButtonEl.classList.add('colab-df-spinner');\n",
              "          try {\n",
              "            const charts = await google.colab.kernel.invokeFunction(\n",
              "                'suggestCharts', [key], {});\n",
              "          } catch (error) {\n",
              "            console.error('Error during call to suggestCharts:', error);\n",
              "          }\n",
              "          quickchartButtonEl.classList.remove('colab-df-spinner');\n",
              "          quickchartButtonEl.classList.add('colab-df-quickchart-complete');\n",
              "        }\n",
              "        (() => {\n",
              "          let quickchartButtonEl =\n",
              "            document.querySelector('#df-1adc263d-b9fc-476a-8e6b-303cf96a6957 button');\n",
              "          quickchartButtonEl.style.display =\n",
              "            google.colab.kernel.accessAllowed ? 'block' : 'none';\n",
              "        })();\n",
              "      </script>\n",
              "    </div>\n",
              "\n",
              "    </div>\n",
              "  </div>\n"
            ],
            "application/vnd.google.colaboratory.intrinsic+json": {
              "type": "dataframe",
              "summary": "{\n  \"name\": \"data_procesada\",\n  \"rows\": 8,\n  \"fields\": [\n    {\n      \"column\": \"Churn\",\n      \"properties\": {\n        \"dtype\": \"number\",\n        \"std\": 2489.9396892003942,\n        \"min\": 0.0,\n        \"max\": 7043.0,\n        \"num_unique_values\": 5,\n        \"samples\": [\n          0.27,\n          1.0,\n          0.44\n        ],\n        \"semantic_type\": \"\",\n        \"description\": \"\"\n      }\n    },\n    {\n      \"column\": \"customer.SeniorCitizen\",\n      \"properties\": {\n        \"dtype\": \"number\",\n        \"std\": 2489.9992770333856,\n        \"min\": 0.0,\n        \"max\": 7043.0,\n        \"num_unique_values\": 5,\n        \"samples\": [\n          0.16,\n          1.0,\n          0.37\n        ],\n        \"semantic_type\": \"\",\n        \"description\": \"\"\n      }\n    },\n    {\n      \"column\": \"customer.Partner\",\n      \"properties\": {\n        \"dtype\": \"number\",\n        \"std\": 2489.926051981407,\n        \"min\": 0.0,\n        \"max\": 7043.0,\n        \"num_unique_values\": 5,\n        \"samples\": [\n          0.48,\n          1.0,\n          0.5\n        ],\n        \"semantic_type\": \"\",\n        \"description\": \"\"\n      }\n    },\n    {\n      \"column\": \"customer.Dependents\",\n      \"properties\": {\n        \"dtype\": \"number\",\n        \"std\": 2489.9371637051404,\n        \"min\": 0.0,\n        \"max\": 7043.0,\n        \"num_unique_values\": 5,\n        \"samples\": [\n          0.3,\n          1.0,\n          0.46\n        ],\n        \"semantic_type\": \"\",\n        \"description\": \"\"\n      }\n    },\n    {\n      \"column\": \"customer.tenure\",\n      \"properties\": {\n        \"dtype\": \"number\",\n        \"std\": 2478.97530738545,\n        \"min\": 0.0,\n        \"max\": 7043.0,\n        \"num_unique_values\": 8,\n        \"samples\": [\n          32.37,\n          29.0,\n          7043.0\n        ],\n        \"semantic_type\": \"\",\n        \"description\": \"\"\n      }\n    },\n    {\n      \"column\": \"phone.PhoneService\",\n      \"properties\": {\n        \"dtype\": \"number\",\n        \"std\": 2489.8139200407268,\n        \"min\": 0.0,\n        \"max\": 7043.0,\n        \"num_unique_values\": 5,\n        \"samples\": [\n          0.9,\n          1.0,\n          0.3\n        ],\n        \"semantic_type\": \"\",\n        \"description\": \"\"\n      }\n    },\n    {\n      \"column\": \"phone.MultipleLines\",\n      \"properties\": {\n        \"dtype\": \"number\",\n        \"std\": 2489.929587371828,\n        \"min\": 0.0,\n        \"max\": 7043.0,\n        \"num_unique_values\": 5,\n        \"samples\": [\n          0.42,\n          1.0,\n          0.49\n        ],\n        \"semantic_type\": \"\",\n        \"description\": \"\"\n      }\n    },\n    {\n      \"column\": \"internet.OnlineSecurity\",\n      \"properties\": {\n        \"dtype\": \"number\",\n        \"std\": 2489.938173878162,\n        \"min\": 0.0,\n        \"max\": 7043.0,\n        \"num_unique_values\": 5,\n        \"samples\": [\n          0.29,\n          1.0,\n          0.45\n        ],\n        \"semantic_type\": \"\",\n        \"description\": \"\"\n      }\n    },\n    {\n      \"column\": \"internet.OnlineBackup\",\n      \"properties\": {\n        \"dtype\": \"number\",\n        \"std\": 2489.934133149194,\n        \"min\": 0.0,\n        \"max\": 7043.0,\n        \"num_unique_values\": 5,\n        \"samples\": [\n          0.34,\n          1.0,\n          0.48\n        ],\n        \"semantic_type\": \"\",\n        \"description\": \"\"\n      }\n    },\n    {\n      \"column\": \"internet.DeviceProtection\",\n      \"properties\": {\n        \"dtype\": \"number\",\n        \"std\": 2489.934133149194,\n        \"min\": 0.0,\n        \"max\": 7043.0,\n        \"num_unique_values\": 5,\n        \"samples\": [\n          0.34,\n          1.0,\n          0.48\n        ],\n        \"semantic_type\": \"\",\n        \"description\": \"\"\n      }\n    },\n    {\n      \"column\": \"internet.TechSupport\",\n      \"properties\": {\n        \"dtype\": \"number\",\n        \"std\": 2489.938173878162,\n        \"min\": 0.0,\n        \"max\": 7043.0,\n        \"num_unique_values\": 5,\n        \"samples\": [\n          0.29,\n          1.0,\n          0.45\n        ],\n        \"semantic_type\": \"\",\n        \"description\": \"\"\n      }\n    },\n    {\n      \"column\": \"internet.StreamingTV\",\n      \"properties\": {\n        \"dtype\": \"number\",\n        \"std\": 2489.9316077063954,\n        \"min\": 0.0,\n        \"max\": 7043.0,\n        \"num_unique_values\": 5,\n        \"samples\": [\n          0.38,\n          1.0,\n          0.49\n        ],\n        \"semantic_type\": \"\",\n        \"description\": \"\"\n      }\n    },\n    {\n      \"column\": \"internet.StreamingMovies\",\n      \"properties\": {\n        \"dtype\": \"number\",\n        \"std\": 2489.9311026153778,\n        \"min\": 0.0,\n        \"max\": 7043.0,\n        \"num_unique_values\": 5,\n        \"samples\": [\n          0.39,\n          1.0,\n          0.49\n        ],\n        \"semantic_type\": \"\",\n        \"description\": \"\"\n      }\n    },\n    {\n      \"column\": \"account.PaperlessBilling\",\n      \"properties\": {\n        \"dtype\": \"number\",\n        \"std\": 2489.8704935455116,\n        \"min\": 0.0,\n        \"max\": 7043.0,\n        \"num_unique_values\": 5,\n        \"samples\": [\n          0.59,\n          1.0,\n          0.49\n        ],\n        \"semantic_type\": \"\",\n        \"description\": \"\"\n      }\n    },\n    {\n      \"column\": \"account.Charges.Monthly\",\n      \"properties\": {\n        \"dtype\": \"number\",\n        \"std\": 2468.7048548606413,\n        \"min\": 18.25,\n        \"max\": 7043.0,\n        \"num_unique_values\": 8,\n        \"samples\": [\n          64.76,\n          70.35,\n          7043.0\n        ],\n        \"semantic_type\": \"\",\n        \"description\": \"\"\n      }\n    }\n  ]\n}"
            }
          },
          "metadata": {},
          "execution_count": 10
        }
      ]
    },
    {
      "cell_type": "markdown",
      "source": [
        "Usaremos Random Forest - Decision Tree - KNNeighbors, por lo tanto normalizar no es necesario ya que no es sensible a los datos. Solamente para KNNeighbots."
      ],
      "metadata": {
        "id": "6W3pLyTx5J4C"
      },
      "id": "6W3pLyTx5J4C"
    },
    {
      "cell_type": "markdown",
      "source": [
        "## Normalizar para KNNeighbors"
      ],
      "metadata": {
        "id": "a0lsfH7IAAFh"
      },
      "id": "a0lsfH7IAAFh"
    },
    {
      "cell_type": "code",
      "source": [
        "from sklearn.preprocessing import MinMaxScaler\n",
        "\n",
        "scaler = MinMaxScaler()\n",
        "x_bal_norm = scaler.fit_transform(x_bal)"
      ],
      "metadata": {
        "id": "FNrFIQdiACTV"
      },
      "id": "FNrFIQdiACTV",
      "execution_count": 11,
      "outputs": []
    },
    {
      "cell_type": "markdown",
      "source": [
        "# Analisis de Correlación"
      ],
      "metadata": {
        "id": "hY0g7cc0W7jI"
      },
      "id": "hY0g7cc0W7jI"
    },
    {
      "cell_type": "code",
      "source": [
        "churnCorr = data_procesada.corr()['Churn']\n",
        "churnCorr = churnCorr.drop('Churn')\n",
        "\n",
        "churnCorr = churnCorr.abs().sort_values(ascending=False)\n",
        "\n",
        "print(\"Variables con las correlaciones más fuertes con 'Churn' (ordenadas por valor absoluto):\")\n",
        "display(churnCorr)"
      ],
      "metadata": {
        "id": "hVfexb0mW-XV",
        "colab": {
          "base_uri": "https://localhost:8080/",
          "height": 791
        },
        "outputId": "1ee0aa00-be9d-4b33-a813-1a10716989f5"
      },
      "id": "hVfexb0mW-XV",
      "execution_count": 13,
      "outputs": [
        {
          "output_type": "stream",
          "name": "stdout",
          "text": [
            "Variables con las correlaciones más fuertes con 'Churn' (ordenadas por valor absoluto):\n"
          ]
        },
        {
          "output_type": "display_data",
          "data": {
            "text/plain": [
              "customer.tenure                                  0.352229\n",
              "internet.InternetService_Fiber optic             0.308020\n",
              "account.Contract_Two year                        0.302253\n",
              "account.PaymentMethod_Electronic check           0.301919\n",
              "internet.InternetService_No                      0.227890\n",
              "account.Charges.Monthly                          0.193356\n",
              "account.PaperlessBilling                         0.191825\n",
              "account.Contract_One year                        0.177820\n",
              "internet.OnlineSecurity                          0.171226\n",
              "internet.TechSupport                             0.164674\n",
              "customer.Dependents                              0.164221\n",
              "customer.SeniorCitizen                           0.150889\n",
              "customer.Partner                                 0.150448\n",
              "account.PaymentMethod_Credit card (automatic)    0.134302\n",
              "account.PaymentMethod_Mailed check               0.091683\n",
              "internet.OnlineBackup                            0.082255\n",
              "internet.DeviceProtection                        0.066160\n",
              "internet.StreamingTV                             0.063228\n",
              "internet.StreamingMovies                         0.061382\n",
              "phone.MultipleLines                              0.040102\n",
              "phone.PhoneService                               0.011942\n",
              "customer.gender_Male                             0.008612\n",
              "Name: Churn, dtype: float64"
            ],
            "text/html": [
              "<div>\n",
              "<style scoped>\n",
              "    .dataframe tbody tr th:only-of-type {\n",
              "        vertical-align: middle;\n",
              "    }\n",
              "\n",
              "    .dataframe tbody tr th {\n",
              "        vertical-align: top;\n",
              "    }\n",
              "\n",
              "    .dataframe thead th {\n",
              "        text-align: right;\n",
              "    }\n",
              "</style>\n",
              "<table border=\"1\" class=\"dataframe\">\n",
              "  <thead>\n",
              "    <tr style=\"text-align: right;\">\n",
              "      <th></th>\n",
              "      <th>Churn</th>\n",
              "    </tr>\n",
              "  </thead>\n",
              "  <tbody>\n",
              "    <tr>\n",
              "      <th>customer.tenure</th>\n",
              "      <td>0.352229</td>\n",
              "    </tr>\n",
              "    <tr>\n",
              "      <th>internet.InternetService_Fiber optic</th>\n",
              "      <td>0.308020</td>\n",
              "    </tr>\n",
              "    <tr>\n",
              "      <th>account.Contract_Two year</th>\n",
              "      <td>0.302253</td>\n",
              "    </tr>\n",
              "    <tr>\n",
              "      <th>account.PaymentMethod_Electronic check</th>\n",
              "      <td>0.301919</td>\n",
              "    </tr>\n",
              "    <tr>\n",
              "      <th>internet.InternetService_No</th>\n",
              "      <td>0.227890</td>\n",
              "    </tr>\n",
              "    <tr>\n",
              "      <th>account.Charges.Monthly</th>\n",
              "      <td>0.193356</td>\n",
              "    </tr>\n",
              "    <tr>\n",
              "      <th>account.PaperlessBilling</th>\n",
              "      <td>0.191825</td>\n",
              "    </tr>\n",
              "    <tr>\n",
              "      <th>account.Contract_One year</th>\n",
              "      <td>0.177820</td>\n",
              "    </tr>\n",
              "    <tr>\n",
              "      <th>internet.OnlineSecurity</th>\n",
              "      <td>0.171226</td>\n",
              "    </tr>\n",
              "    <tr>\n",
              "      <th>internet.TechSupport</th>\n",
              "      <td>0.164674</td>\n",
              "    </tr>\n",
              "    <tr>\n",
              "      <th>customer.Dependents</th>\n",
              "      <td>0.164221</td>\n",
              "    </tr>\n",
              "    <tr>\n",
              "      <th>customer.SeniorCitizen</th>\n",
              "      <td>0.150889</td>\n",
              "    </tr>\n",
              "    <tr>\n",
              "      <th>customer.Partner</th>\n",
              "      <td>0.150448</td>\n",
              "    </tr>\n",
              "    <tr>\n",
              "      <th>account.PaymentMethod_Credit card (automatic)</th>\n",
              "      <td>0.134302</td>\n",
              "    </tr>\n",
              "    <tr>\n",
              "      <th>account.PaymentMethod_Mailed check</th>\n",
              "      <td>0.091683</td>\n",
              "    </tr>\n",
              "    <tr>\n",
              "      <th>internet.OnlineBackup</th>\n",
              "      <td>0.082255</td>\n",
              "    </tr>\n",
              "    <tr>\n",
              "      <th>internet.DeviceProtection</th>\n",
              "      <td>0.066160</td>\n",
              "    </tr>\n",
              "    <tr>\n",
              "      <th>internet.StreamingTV</th>\n",
              "      <td>0.063228</td>\n",
              "    </tr>\n",
              "    <tr>\n",
              "      <th>internet.StreamingMovies</th>\n",
              "      <td>0.061382</td>\n",
              "    </tr>\n",
              "    <tr>\n",
              "      <th>phone.MultipleLines</th>\n",
              "      <td>0.040102</td>\n",
              "    </tr>\n",
              "    <tr>\n",
              "      <th>phone.PhoneService</th>\n",
              "      <td>0.011942</td>\n",
              "    </tr>\n",
              "    <tr>\n",
              "      <th>customer.gender_Male</th>\n",
              "      <td>0.008612</td>\n",
              "    </tr>\n",
              "  </tbody>\n",
              "</table>\n",
              "</div><br><label><b>dtype:</b> float64</label>"
            ]
          },
          "metadata": {}
        }
      ]
    },
    {
      "cell_type": "markdown",
      "source": [
        "# Análisis Dirigido"
      ],
      "metadata": {
        "id": "_s-GAg2KiyDL"
      },
      "id": "_s-GAg2KiyDL"
    },
    {
      "cell_type": "markdown",
      "source": [
        "## Tiempo de Contrato x Cancelación"
      ],
      "metadata": {
        "id": "tuPR3V7wjEDz"
      },
      "id": "tuPR3V7wjEDz"
    },
    {
      "cell_type": "code",
      "source": [
        "plt.figure(figsize=(8,5))\n",
        "sns.countplot(x='account.Contract', hue='Churn', data=data)\n",
        "plt.title('Tipo de Contrato vs Cancelación')\n",
        "plt.xlabel(\"Tipo de Contrato\")\n",
        "plt.ylabel(\"Cantidad\")\n",
        "plt.legend(title='Cancelación')\n",
        "plt.show()"
      ],
      "metadata": {
        "id": "bpxG8Nrui2mz",
        "outputId": "dae5ce8f-bfc3-41b9-e2d9-c96d72cc8c1e",
        "colab": {
          "base_uri": "https://localhost:8080/",
          "height": 488
        }
      },
      "id": "bpxG8Nrui2mz",
      "execution_count": 20,
      "outputs": [
        {
          "output_type": "display_data",
          "data": {
            "text/plain": [
              "<Figure size 800x500 with 1 Axes>"
            ],
            "image/png": "[encoded data removed]"
          },
          "metadata": {}
        }
      ]
    },
    {
      "cell_type": "markdown",
      "source": [
        "- Los tipos de contrato mes a mes indican que son mas propensos a cancelar\n",
        "- En cambio los tipos de contrato cada 2 años son menos propensos a cancelar"
      ],
      "metadata": {
        "id": "nQ8Ml-qbljNp"
      },
      "id": "nQ8Ml-qbljNp"
    },
    {
      "cell_type": "code",
      "source": [
        "plt.figure(figsize=(8,5))\n",
        "sns.boxplot(x='Churn', y='account.Charges.Monthly', data=data)\n",
        "plt.title('Gasto Total vs Cancelación')\n",
        "plt.xlabel(\"Cancelación\")\n",
        "plt.ylabel(\"Gasto Total\")\n",
        "plt.show()"
      ],
      "metadata": {
        "id": "FVhvvf4kj5KV",
        "outputId": "65dcf293-5041-4672-fcc4-3e7a1eb6aa40",
        "colab": {
          "base_uri": "https://localhost:8080/",
          "height": 487
        }
      },
      "id": "FVhvvf4kj5KV",
      "execution_count": 27,
      "outputs": [
        {
          "output_type": "display_data",
          "data": {
            "text/plain": [
              "<Figure size 800x500 with 1 Axes>"
            ],
            "image/png": "[encoded data removed]"
          },
          "metadata": {}
        }
      ]
    },
    {
      "cell_type": "markdown",
      "source": [
        "- El promedio de gastos totales de los que cancelan tienen un gasto mayor que a los minimos habituales.\n",
        "- Muchas de las cancelaciones cuentan con los gastos rondando en 80 y 60"
      ],
      "metadata": {
        "id": "if564tz_l0EJ"
      },
      "id": "if564tz_l0EJ"
    },
    {
      "cell_type": "markdown",
      "source": [
        "# Selección de variables"
      ],
      "metadata": {
        "id": "zKSspskDW-u4"
      },
      "id": "zKSspskDW-u4"
    },
    {
      "cell_type": "code",
      "source": [],
      "metadata": {
        "id": "NQMv8A4kXBDf"
      },
      "id": "NQMv8A4kXBDf",
      "execution_count": 12,
      "outputs": []
    },
    {
      "cell_type": "markdown",
      "source": [
        "# Entrenamientos de modelos"
      ],
      "metadata": {
        "id": "0wE-LtnEqvh1"
      },
      "id": "0wE-LtnEqvh1"
    },
    {
      "cell_type": "markdown",
      "source": [
        "## Entrenamiento modelo baseline"
      ],
      "metadata": {
        "id": "n9CIHP2TqgTx"
      },
      "id": "n9CIHP2TqgTx"
    },
    {
      "cell_type": "code",
      "source": [],
      "metadata": {
        "id": "NmJ0jUpMqiDn"
      },
      "id": "NmJ0jUpMqiDn",
      "execution_count": 12,
      "outputs": []
    },
    {
      "cell_type": "markdown",
      "source": [
        "## Entrenamiento Random Forest"
      ],
      "metadata": {
        "id": "WEhs_Wr8qidc"
      },
      "id": "WEhs_Wr8qidc"
    },
    {
      "cell_type": "code",
      "source": [],
      "metadata": {
        "id": "RH8GVOrbqkzc"
      },
      "id": "RH8GVOrbqkzc",
      "execution_count": 12,
      "outputs": []
    },
    {
      "cell_type": "markdown",
      "source": [
        "## Entrenamiento Decision Tree"
      ],
      "metadata": {
        "id": "uRSj6zBtqlUl"
      },
      "id": "uRSj6zBtqlUl"
    },
    {
      "cell_type": "code",
      "source": [],
      "metadata": {
        "id": "ACwi3eo_qnXH"
      },
      "id": "ACwi3eo_qnXH",
      "execution_count": 12,
      "outputs": []
    },
    {
      "cell_type": "markdown",
      "source": [
        "# Evaluar Modelos"
      ],
      "metadata": {
        "id": "XXcJWigMqnyZ"
      },
      "id": "XXcJWigMqnyZ"
    },
    {
      "cell_type": "code",
      "source": [],
      "metadata": {
        "id": "hijiOaNuqt0W"
      },
      "id": "hijiOaNuqt0W",
      "execution_count": 12,
      "outputs": []
    },
    {
      "cell_type": "markdown",
      "source": [
        "# Interpretación"
      ],
      "metadata": {
        "id": "K-4CIbE8q5Cq"
      },
      "id": "K-4CIbE8q5Cq"
    },
    {
      "cell_type": "code",
      "source": [],
      "metadata": {
        "id": "Mr6lW1Zyq7jJ"
      },
      "id": "Mr6lW1Zyq7jJ",
      "execution_count": 12,
      "outputs": []
    },
    {
      "cell_type": "markdown",
      "source": [
        "# Conclusión"
      ],
      "metadata": {
        "id": "GyuXFdBaq7_O"
      },
      "id": "GyuXFdBaq7_O"
    },
    {
      "cell_type": "markdown",
      "source": [
        "Principales factores que influyen en el churn ( la evasión del cliente ):\n",
        "- 1\n",
        "- 2"
      ],
      "metadata": {
        "id": "oFz75dFVrA42"
      },
      "id": "oFz75dFVrA42"
    }
  ],
  "metadata": {
    "kernelspec": {
      "display_name": "Python 3",
      "language": "python",
      "name": "python3"
    },
    "language_info": {
      "codemirror_mode": {
        "name": "ipython",
        "version": 3
      },
      "file_extension": ".py",
      "mimetype": "text/x-python",
      "name": "python",
      "nbconvert_exporter": "python",
      "pygments_lexer": "ipython3",
      "version": "3.13.0"
    },
    "colab": {
      "provenance": []
    }
  },
  "nbformat": 4,
  "nbformat_minor": 5
}